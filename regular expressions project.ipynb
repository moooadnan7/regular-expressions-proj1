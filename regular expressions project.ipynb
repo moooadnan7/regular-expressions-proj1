{
 "cells": [
  {
   "cell_type": "code",
   "execution_count": 39,
   "id": "e599f219",
   "metadata": {},
   "outputs": [
    {
     "name": "stdout",
     "output_type": "stream",
     "text": [
      "names : ['Mr. Nicholas Johnson ', 'Mrs. Rachel Vasquez ', 'Mrs. Angela Reed ', 'Mr. Kevin Stevens ', 'Mrs. Stephanie Hernandez ', 'Ms. Elizabeth Davis ', 'Mr. William Anderson ']\n",
      "emails : ['nickjohnson@example.com', 'rachel.vasquez@hotmail.com', 'david.miller@hotmail.com', 'jenniferlee@hotmail.com', 'cruz.jeffrey@gmail.com', 'emily.woodard@yahoo.com', 'cameron.collins@yahoo.com', 'angela.reed@gmail.com', 'bell.rachel@gmail.com', 'kevinstevens@gmail.com', 'stephanie.hernandez@yahoo.com', 'michael.smith@example.com', 'amanda.rios@hotmail.com', 'elizabeth.davis@gmail.com', 'william.anderson@gmail.com']\n",
      "numbers : ['786-454-9174', '390-315-5754', '1-173-934-8243', '849-411-6572', '1-853-945-1023', '555-528-3868', '(667)963-8224', '1-925-801-6766', '1-575-837-1416', '775-211-3947', '1-679-248-4313', '1-262-655-6131', '(191)692-3845', '1-445-684-7890', '1-638-708-9631']\n"
     ]
    }
   ],
   "source": [
    "with open(\"re.txt\") as x:\n",
    "    text=x.read()\n",
    "import re\n",
    "names=[]\n",
    "emails=[]\n",
    "numbers=[]\n",
    "for i in text.splitlines():\n",
    "    name=re.findall(r\"[Mr.MsMrs]*\\s[ a-z A-Z]*\\s[ a-z A-Z]+\\s\",i)\n",
    "    number=re.findall(r\"\\d?-?\\(?\\d{3}\\)?-?\\d{3}-\\d{4}\",i)\n",
    "    email=re.findall(r\"[\\w+\\.-]+@[a-z\\d\\.-]+\\.[a-z]+\",i)\n",
    "    emails.extend(email)\n",
    "    names.extend(name)\n",
    "    numbers.extend(number)\n",
    "print(\"names :\",names)\n",
    "print(\"emails :\",emails)\n",
    "print(\"numbers :\",numbers)"
   ]
  }
 ],
 "metadata": {
  "kernelspec": {
   "display_name": "Python 3 (ipykernel)",
   "language": "python",
   "name": "python3"
  },
  "language_info": {
   "codemirror_mode": {
    "name": "ipython",
    "version": 3
   },
   "file_extension": ".py",
   "mimetype": "text/x-python",
   "name": "python",
   "nbconvert_exporter": "python",
   "pygments_lexer": "ipython3",
   "version": "3.9.13"
  }
 },
 "nbformat": 4,
 "nbformat_minor": 5
}
